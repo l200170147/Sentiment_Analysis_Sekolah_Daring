{
 "cells": [
  {
   "cell_type": "code",
   "execution_count": 4,
   "metadata": {},
   "outputs": [],
   "source": [
    "#Membaca file csv\n",
    "import pandas as pd\n",
    "df =pd.read_csv('Cob1.csv',engine='python',sep=';',error_bad_lines=False)"
   ]
  },
  {
   "cell_type": "code",
   "execution_count": 5,
   "metadata": {},
   "outputs": [
    {
     "data": {
      "text/html": [
       "<div>\n",
       "<style scoped>\n",
       "    .dataframe tbody tr th:only-of-type {\n",
       "        vertical-align: middle;\n",
       "    }\n",
       "\n",
       "    .dataframe tbody tr th {\n",
       "        vertical-align: top;\n",
       "    }\n",
       "\n",
       "    .dataframe thead th {\n",
       "        text-align: right;\n",
       "    }\n",
       "</style>\n",
       "<table border=\"1\" class=\"dataframe\">\n",
       "  <thead>\n",
       "    <tr style=\"text-align: right;\">\n",
       "      <th></th>\n",
       "      <th>Text</th>\n",
       "      <th>Id</th>\n",
       "    </tr>\n",
       "  </thead>\n",
       "  <tbody>\n",
       "    <tr>\n",
       "      <th>0</th>\n",
       "      <td>Ada pula Antares sistem yang memberikan kemuda...</td>\n",
       "      <td>1295661811895681026</td>\n",
       "    </tr>\n",
       "    <tr>\n",
       "      <th>1</th>\n",
       "      <td>Jadi menteri pendidikan memang pusing banget s...</td>\n",
       "      <td>1293877300321071104</td>\n",
       "    </tr>\n",
       "    <tr>\n",
       "      <th>2</th>\n",
       "      <td>Untung aja tadi sekolah online ga telattt...hu...</td>\n",
       "      <td>1294114998935908352</td>\n",
       "    </tr>\n",
       "    <tr>\n",
       "      <th>3</th>\n",
       "      <td>RT @crushgyu: udah kpopers + sekolah online ud...</td>\n",
       "      <td>1296140798191259650</td>\n",
       "    </tr>\n",
       "    <tr>\n",
       "      <th>4</th>\n",
       "      <td>Salah satu curhatan anak sma ngerasain sekolah...</td>\n",
       "      <td>1296139533130412032</td>\n",
       "    </tr>\n",
       "  </tbody>\n",
       "</table>\n",
       "</div>"
      ],
      "text/plain": [
       "                                                Text                   Id\n",
       "0  Ada pula Antares sistem yang memberikan kemuda...  1295661811895681026\n",
       "1  Jadi menteri pendidikan memang pusing banget s...  1293877300321071104\n",
       "2  Untung aja tadi sekolah online ga telattt...hu...  1294114998935908352\n",
       "3  RT @crushgyu: udah kpopers + sekolah online ud...  1296140798191259650\n",
       "4  Salah satu curhatan anak sma ngerasain sekolah...  1296139533130412032"
      ]
     },
     "execution_count": 5,
     "metadata": {},
     "output_type": "execute_result"
    }
   ],
   "source": [
    "#Melihat 5 data teratas\n",
    "df.head()"
   ]
  },
  {
   "cell_type": "code",
   "execution_count": 6,
   "metadata": {},
   "outputs": [
    {
     "name": "stdout",
     "output_type": "stream",
     "text": [
      "<class 'pandas.core.frame.DataFrame'>\n",
      "RangeIndex: 2808 entries, 0 to 2807\n",
      "Data columns (total 2 columns):\n",
      " #   Column  Non-Null Count  Dtype \n",
      "---  ------  --------------  ----- \n",
      " 0   Text    2808 non-null   object\n",
      " 1   Id      2808 non-null   int64 \n",
      "dtypes: int64(1), object(1)\n",
      "memory usage: 44.0+ KB\n"
     ]
    }
   ],
   "source": [
    "#Menganalisa variabel yang terdapat pada dataset\n",
    "df.info()"
   ]
  },
  {
   "cell_type": "code",
   "execution_count": 7,
   "metadata": {},
   "outputs": [],
   "source": [
    "#Membuang kolom ID \n",
    "df.drop(['Id'],axis=1,inplace=True)"
   ]
  },
  {
   "cell_type": "code",
   "execution_count": 8,
   "metadata": {},
   "outputs": [],
   "source": [
    "#Membuat kolom untuk mengecek panjang tweet\n",
    "df['pre_clean_len'] = [len(t) for t in df.Text]"
   ]
  },
  {
   "cell_type": "code",
   "execution_count": 9,
   "metadata": {},
   "outputs": [
    {
     "name": "stdout",
     "output_type": "stream",
     "text": [
      "{'Text': {'description': 'tweet text', 'type': dtype('O')},\n",
      " 'dataset_shape': (2808, 2),\n",
      " 'pre_clean_len': {'description': 'Length of the tweet before cleaning',\n",
      "                   'type': dtype('int64')}}\n"
     ]
    }
   ],
   "source": [
    "from pprint import pprint\n",
    "data_dict = {\n",
    "    #Melakukan pengecekkan tipe data variabel\n",
    "    'Text':{\n",
    "        'type':df.Text.dtype,\n",
    "        'description':'tweet text'\n",
    "    },\n",
    "    'pre_clean_len':{\n",
    "        'type':df.pre_clean_len.dtype,\n",
    "        'description':'Length of the tweet before cleaning'\n",
    "    },\n",
    "    #Melihat dimensi dataset \n",
    "    'dataset_shape':df.shape\n",
    "}\n",
    "pprint(data_dict)"
   ]
  },
  {
   "cell_type": "code",
   "execution_count": 10,
   "metadata": {},
   "outputs": [
    {
     "data": {
      "image/png": "[encoded data removed]",
      "text/plain": [
       "<Figure size 360x360 with 1 Axes>"
      ]
     },
     "metadata": {
      "needs_background": "light"
     },
     "output_type": "display_data"
    }
   ],
   "source": [
    "#barplot untuk persebaran panjang tweet\n",
    "import matplotlib.pyplot as plt\n",
    "fig, ax = plt.subplots(figsize=(5, 5))\n",
    "plt.boxplot(df.pre_clean_len)\n",
    "plt.show()"
   ]
  },
  {
   "cell_type": "code",
   "execution_count": 11,
   "metadata": {},
   "outputs": [
    {
     "data": {
      "text/html": [
       "<div>\n",
       "<style scoped>\n",
       "    .dataframe tbody tr th:only-of-type {\n",
       "        vertical-align: middle;\n",
       "    }\n",
       "\n",
       "    .dataframe tbody tr th {\n",
       "        vertical-align: top;\n",
       "    }\n",
       "\n",
       "    .dataframe thead th {\n",
       "        text-align: right;\n",
       "    }\n",
       "</style>\n",
       "<table border=\"1\" class=\"dataframe\">\n",
       "  <thead>\n",
       "    <tr style=\"text-align: right;\">\n",
       "      <th></th>\n",
       "      <th>Text</th>\n",
       "      <th>pre_clean_len</th>\n",
       "    </tr>\n",
       "  </thead>\n",
       "  <tbody>\n",
       "    <tr>\n",
       "      <th>0</th>\n",
       "      <td>Ada pula Antares sistem yang memberikan kemuda...</td>\n",
       "      <td>274</td>\n",
       "    </tr>\n",
       "    <tr>\n",
       "      <th>1</th>\n",
       "      <td>Jadi menteri pendidikan memang pusing banget s...</td>\n",
       "      <td>226</td>\n",
       "    </tr>\n",
       "    <tr>\n",
       "      <th>4</th>\n",
       "      <td>Salah satu curhatan anak sma ngerasain sekolah...</td>\n",
       "      <td>214</td>\n",
       "    </tr>\n",
       "    <tr>\n",
       "      <th>5</th>\n",
       "      <td>@tokopedia Ngga ada uang buat nabung  karena n...</td>\n",
       "      <td>311</td>\n",
       "    </tr>\n",
       "    <tr>\n",
       "      <th>7</th>\n",
       "      <td>ribet banget soalnya sekolah gue tuh absen mul...</td>\n",
       "      <td>247</td>\n",
       "    </tr>\n",
       "    <tr>\n",
       "      <th>10</th>\n",
       "      <td>@kaktushidup20 Gatau keknya engga. Hrsnya. Ami...</td>\n",
       "      <td>293</td>\n",
       "    </tr>\n",
       "    <tr>\n",
       "      <th>12</th>\n",
       "      <td>Waktu belajar ini sih masalah utama kita semua...</td>\n",
       "      <td>288</td>\n",
       "    </tr>\n",
       "    <tr>\n",
       "      <th>18</th>\n",
       "      <td>trs lewat dari dua minggu itu langsung sekolah...</td>\n",
       "      <td>164</td>\n",
       "    </tr>\n",
       "    <tr>\n",
       "      <th>20</th>\n",
       "      <td>Kerjaan online gue banyak\\n\\n1. Sekolah online...</td>\n",
       "      <td>148</td>\n",
       "    </tr>\n",
       "    <tr>\n",
       "      <th>22</th>\n",
       "      <td>@S_AshelJKT48 Belum de baru mau log in kamu ti...</td>\n",
       "      <td>141</td>\n",
       "    </tr>\n",
       "  </tbody>\n",
       "</table>\n",
       "</div>"
      ],
      "text/plain": [
       "                                                 Text  pre_clean_len\n",
       "0   Ada pula Antares sistem yang memberikan kemuda...            274\n",
       "1   Jadi menteri pendidikan memang pusing banget s...            226\n",
       "4   Salah satu curhatan anak sma ngerasain sekolah...            214\n",
       "5   @tokopedia Ngga ada uang buat nabung  karena n...            311\n",
       "7   ribet banget soalnya sekolah gue tuh absen mul...            247\n",
       "10  @kaktushidup20 Gatau keknya engga. Hrsnya. Ami...            293\n",
       "12  Waktu belajar ini sih masalah utama kita semua...            288\n",
       "18  trs lewat dari dua minggu itu langsung sekolah...            164\n",
       "20  Kerjaan online gue banyak\\n\\n1. Sekolah online...            148\n",
       "22  @S_AshelJKT48 Belum de baru mau log in kamu ti...            141"
      ]
     },
     "execution_count": 11,
     "metadata": {},
     "output_type": "execute_result"
    }
   ],
   "source": [
    "#Menampilkan 10 data teratas tweet yang panjangnya diatas 140\n",
    "df[df.pre_clean_len > 140].head(10)"
   ]
  },
  {
   "cell_type": "code",
   "execution_count": 12,
   "metadata": {},
   "outputs": [
    {
     "data": {
      "text/plain": [
       "'Ada pula Antares sistem yang memberikan kemudahan dalam mengembangkan aplikasi IoT juga SIplah Blanja sistem khusus pengadaan barang & jasa sekolah melalui  online marketplace.\\n\\nSobat mari gelorakan semangat dan terus berinovasi untuk negeri. \\n___\\n#SelaluAda #UntukIndonesia'"
      ]
     },
     "execution_count": 12,
     "metadata": {},
     "output_type": "execute_result"
    }
   ],
   "source": [
    "df.Text[0]"
   ]
  },
  {
   "cell_type": "code",
   "execution_count": 13,
   "metadata": {},
   "outputs": [],
   "source": [
    "df['Text']=df['Text'].str.replace('(?:\\@|https?\\://)\\S+', '')\n",
    "df['Text']=df['Text'].str.replace('[^\\w\\s]',' ')\n",
    "#ilangin angka\n",
    "df['Text']=df['Text'].str.replace('\\d+',' ')\n",
    "#ilangin enter\n",
    "df['Text']=df['Text'].str.lower()\n",
    "#ilangin spasi berlebih\n",
    "df['Text'] = df['Text'].replace('\\s+', ' ', regex=True)\n",
    "#ilangin simbol\n",
    "df['Text'] = df['Text'].replace('\\n',' ',regex=True)"
   ]
  },
  {
   "cell_type": "code",
   "execution_count": 16,
   "metadata": {},
   "outputs": [
    {
     "data": {
      "text/html": [
       "<div>\n",
       "<style scoped>\n",
       "    .dataframe tbody tr th:only-of-type {\n",
       "        vertical-align: middle;\n",
       "    }\n",
       "\n",
       "    .dataframe tbody tr th {\n",
       "        vertical-align: top;\n",
       "    }\n",
       "\n",
       "    .dataframe thead th {\n",
       "        text-align: right;\n",
       "    }\n",
       "</style>\n",
       "<table border=\"1\" class=\"dataframe\">\n",
       "  <thead>\n",
       "    <tr style=\"text-align: right;\">\n",
       "      <th></th>\n",
       "      <th>Text</th>\n",
       "      <th>pre_clean_len</th>\n",
       "    </tr>\n",
       "  </thead>\n",
       "  <tbody>\n",
       "    <tr>\n",
       "      <th>0</th>\n",
       "      <td>ada pula antares sistem yang memberikan kemuda...</td>\n",
       "      <td>274</td>\n",
       "    </tr>\n",
       "    <tr>\n",
       "      <th>1</th>\n",
       "      <td>jadi menteri pendidikan memang pusing banget s...</td>\n",
       "      <td>226</td>\n",
       "    </tr>\n",
       "    <tr>\n",
       "      <th>2</th>\n",
       "      <td>untung aja tadi sekolah online ga telattt huft...</td>\n",
       "      <td>73</td>\n",
       "    </tr>\n",
       "    <tr>\n",
       "      <th>3</th>\n",
       "      <td>rt udah kpopers sekolah online udah deh penyim...</td>\n",
       "      <td>77</td>\n",
       "    </tr>\n",
       "    <tr>\n",
       "      <th>4</th>\n",
       "      <td>salah satu curhatan anak sma ngerasain sekolah...</td>\n",
       "      <td>214</td>\n",
       "    </tr>\n",
       "  </tbody>\n",
       "</table>\n",
       "</div>"
      ],
      "text/plain": [
       "                                                Text  pre_clean_len\n",
       "0  ada pula antares sistem yang memberikan kemuda...            274\n",
       "1  jadi menteri pendidikan memang pusing banget s...            226\n",
       "2  untung aja tadi sekolah online ga telattt huft...             73\n",
       "3  rt udah kpopers sekolah online udah deh penyim...             77\n",
       "4  salah satu curhatan anak sma ngerasain sekolah...            214"
      ]
     },
     "execution_count": 16,
     "metadata": {},
     "output_type": "execute_result"
    }
   ],
   "source": [
    "#Menampilkan 5 data teratas\n",
    "df.head()"
   ]
  },
  {
   "cell_type": "code",
   "execution_count": 15,
   "metadata": {},
   "outputs": [],
   "source": [
    "#Menyimpan file\n",
    "df.to_csv('twitklen.csv',columns=['Text'],index=False)"
   ]
  }
 ],
 "metadata": {
  "kernelspec": {
   "display_name": "Python 3",
   "language": "python",
   "name": "python3"
  },
  "language_info": {
   "codemirror_mode": {
    "name": "ipython",
    "version": 3
   },
   "file_extension": ".py",
   "mimetype": "text/x-python",
   "name": "python",
   "nbconvert_exporter": "python",
   "pygments_lexer": "ipython3",
   "version": "3.8.3"
  }
 },
 "nbformat": 4,
 "nbformat_minor": 4
}
